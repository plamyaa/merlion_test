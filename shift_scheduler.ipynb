{
 "cells": [
  {
   "cell_type": "code",
   "execution_count": 2,
   "metadata": {},
   "outputs": [],
   "source": [
    "import numpy as np\n",
    "import pandas as pd\n",
    "import torch\n",
    "import torch.nn as nn\n",
    "import torch.optim as optim\n",
    "\n",
    "from constants import (\n",
    "    NUM_DAYS,\n",
    "    NUM_EMPLOYEES,\n",
    "    OUTPUT_FILE,\n",
    ")\n",
    "from schedule_generator import ScheduleGenerator\n",
    "from schedule_validator import ScheduleValidator\n",
    "from schedule_model import ScheduleModel"
   ]
  },
  {
   "cell_type": "code",
   "execution_count": 3,
   "metadata": {},
   "outputs": [],
   "source": [
    "# Генерация расписания\n",
    "schedule_generator = ScheduleGenerator(num_employees=NUM_EMPLOYEES, num_days=NUM_DAYS)\n",
    "generated_schedule = schedule_generator.generate_schedule(shuffle_rows=True)\n",
    "schedule_df = pd.DataFrame(\n",
    "    generated_schedule,\n",
    "    columns=[f'Day_{i+1}' for i in range(NUM_DAYS)]\n",
    ")\n",
    "\n",
    "# Сохранение расписания\n",
    "schedule_df.to_csv(OUTPUT_FILE, index=False)"
   ]
  },
  {
   "cell_type": "code",
   "execution_count": 4,
   "metadata": {},
   "outputs": [
    {
     "name": "stdout",
     "output_type": "stream",
     "text": [
      "x_train sample: [2 0 0 1 1 1 1 1 0 0 2 2 2 2 2 0 0 1 1 1]\n",
      "y_train sample: [2 0 0 1 1 1 1 1 0 0 2 2 2 2 2 0 0 1 1 1]\n"
     ]
    }
   ],
   "source": [
    "# Подготовка данных для обучения\n",
    "schedule = schedule_df.values\n",
    "noisy_schedule = ScheduleGenerator.add_noise_to_schedule(schedule, noise_level=0.05)\n",
    "\n",
    "# Преобразование данных\n",
    "x_train = noisy_schedule.reshape(1, -1)\n",
    "y_train = schedule.flatten()\n",
    "print(\"x_train sample:\", x_train[0][:20])  # Первые 10 значений x_train\n",
    "print(\"y_train sample:\", y_train[:20])\n",
    "\n",
    "# Преобразование в тензоры\n",
    "x_train = torch.tensor(x_train, dtype=torch.float32)\n",
    "y_train = torch.tensor(y_train, dtype=torch.long)"
   ]
  },
  {
   "cell_type": "code",
   "execution_count": 5,
   "metadata": {},
   "outputs": [
    {
     "name": "stdout",
     "output_type": "stream",
     "text": [
      "Epoch 1/100, Loss: 1.1089338064193726\n",
      "Epoch 2/100, Loss: 4.840848445892334\n",
      "Epoch 3/100, Loss: 5.1858601570129395\n",
      "Epoch 4/100, Loss: 3.764955520629883\n",
      "Epoch 5/100, Loss: 3.391624927520752\n",
      "Epoch 6/100, Loss: 2.390517473220825\n",
      "Epoch 7/100, Loss: 1.8579884767532349\n",
      "Epoch 8/100, Loss: 1.623233675956726\n",
      "Epoch 9/100, Loss: 1.2572869062423706\n",
      "Epoch 10/100, Loss: 0.956608772277832\n",
      "Epoch 11/100, Loss: 0.6798754334449768\n",
      "Epoch 12/100, Loss: 0.6558136343955994\n",
      "Epoch 13/100, Loss: 0.4362602233886719\n",
      "Epoch 14/100, Loss: 0.3869820833206177\n",
      "Epoch 15/100, Loss: 0.3589375615119934\n",
      "Epoch 16/100, Loss: 0.27553871273994446\n",
      "Epoch 17/100, Loss: 0.2718978524208069\n",
      "Epoch 18/100, Loss: 0.1772843599319458\n",
      "Epoch 19/100, Loss: 0.0988670140504837\n",
      "Epoch 20/100, Loss: 0.08012670278549194\n",
      "Epoch 21/100, Loss: 0.06218944862484932\n",
      "Epoch 22/100, Loss: 0.03825996443629265\n",
      "Epoch 23/100, Loss: 0.02637270838022232\n",
      "Epoch 24/100, Loss: 0.024127982556819916\n",
      "Epoch 25/100, Loss: 0.05260690301656723\n",
      "Epoch 26/100, Loss: 0.01972663775086403\n",
      "Epoch 27/100, Loss: 0.008795010857284069\n",
      "Epoch 28/100, Loss: 0.045671284198760986\n",
      "Epoch 29/100, Loss: 0.0011376099428161979\n",
      "Epoch 30/100, Loss: 0.008593780919909477\n",
      "Epoch 31/100, Loss: 0.0009844431187957525\n",
      "Epoch 32/100, Loss: 6.908167415531352e-05\n",
      "Epoch 33/100, Loss: 0.00331461732275784\n",
      "Epoch 34/100, Loss: 0.002383043058216572\n",
      "Epoch 35/100, Loss: 1.1408814089008956e-06\n",
      "Epoch 36/100, Loss: 0.0018397235544398427\n",
      "Epoch 37/100, Loss: 5.27855554537382e-05\n",
      "Epoch 38/100, Loss: 2.7064895675721345e-06\n",
      "Epoch 39/100, Loss: 1.4400102372746915e-05\n",
      "Epoch 40/100, Loss: 6.848414341220632e-05\n",
      "Epoch 41/100, Loss: 0.00027358194347471\n",
      "Epoch 42/100, Loss: 0.00014606714830733836\n",
      "Epoch 43/100, Loss: 0.0020851304288953543\n",
      "Epoch 44/100, Loss: 0.0008479980169795454\n",
      "Epoch 45/100, Loss: 0.0038291860837489367\n",
      "Epoch 46/100, Loss: 0.00020621271687559783\n",
      "Epoch 47/100, Loss: 0.00014698176528327167\n",
      "Epoch 48/100, Loss: 2.068616367978393e-06\n",
      "Epoch 49/100, Loss: 0.00024166321964003146\n",
      "Epoch 50/100, Loss: 0.0002218045701738447\n",
      "Epoch 51/100, Loss: 2.699194055821863e-06\n",
      "Epoch 52/100, Loss: 1.0016889063990675e-05\n",
      "Epoch 53/100, Loss: 5.1208146032877266e-05\n",
      "Epoch 54/100, Loss: 2.5638138367867214e-07\n",
      "Epoch 55/100, Loss: 0.00014297492452897131\n",
      "Epoch 56/100, Loss: 8.831369768813602e-08\n",
      "Epoch 57/100, Loss: 1.0707470465831648e-08\n",
      "Epoch 58/100, Loss: 0.000459681119536981\n",
      "Epoch 59/100, Loss: 0.012817852199077606\n",
      "Epoch 60/100, Loss: 1.715304449589894e-07\n",
      "Epoch 61/100, Loss: 4.151167161126068e-07\n",
      "Epoch 62/100, Loss: 0.0002249652607133612\n",
      "Epoch 63/100, Loss: 0.000177028079633601\n",
      "Epoch 64/100, Loss: 3.992954589193687e-08\n",
      "Epoch 65/100, Loss: 1.3382902579905931e-05\n",
      "Epoch 66/100, Loss: 0.0001338981674052775\n",
      "Epoch 67/100, Loss: 8.165638405444042e-07\n",
      "Epoch 68/100, Loss: 0.00020827370462939143\n",
      "Epoch 69/100, Loss: 0.000850129232276231\n",
      "Epoch 70/100, Loss: 6.7596174631034955e-06\n",
      "Epoch 71/100, Loss: 1.1923982867756422e-07\n",
      "Epoch 72/100, Loss: 0.00014998423284851015\n",
      "Epoch 73/100, Loss: 1.5229938981065061e-05\n",
      "Epoch 74/100, Loss: 0.00015370034088846296\n",
      "Epoch 75/100, Loss: 8.754299187785364e-07\n",
      "Epoch 76/100, Loss: 0.0004056234029121697\n",
      "Epoch 77/100, Loss: 3.332285359647358e-06\n",
      "Epoch 78/100, Loss: 1.098115944841993e-06\n",
      "Epoch 79/100, Loss: 3.5164895439976362e-09\n",
      "Epoch 80/100, Loss: 5.145522230520783e-09\n",
      "Epoch 81/100, Loss: 0.003951400052756071\n",
      "Epoch 82/100, Loss: 3.408700285945088e-05\n",
      "Epoch 83/100, Loss: 0.0003070640959776938\n",
      "Epoch 84/100, Loss: 0.0005286696250550449\n",
      "Epoch 85/100, Loss: 4.5938479161122814e-05\n",
      "Epoch 86/100, Loss: 6.655291508650407e-05\n",
      "Epoch 87/100, Loss: 3.967320765241311e-07\n",
      "Epoch 88/100, Loss: 8.152051123033743e-07\n",
      "Epoch 89/100, Loss: 6.9720117608085275e-06\n",
      "Epoch 90/100, Loss: 0.00047945111873559654\n",
      "Epoch 91/100, Loss: 6.928917173354421e-08\n",
      "Epoch 92/100, Loss: 0.0001985993148991838\n",
      "Epoch 93/100, Loss: 2.068349567707628e-05\n",
      "Epoch 94/100, Loss: 6.576334499186487e-08\n",
      "Epoch 95/100, Loss: 5.014325779484352e-06\n",
      "Epoch 96/100, Loss: 4.755173961257242e-07\n",
      "Epoch 97/100, Loss: 1.9564487956813537e-05\n",
      "Epoch 98/100, Loss: 3.232984454371035e-05\n",
      "Epoch 99/100, Loss: 1.3183542932893033e-06\n",
      "Epoch 100/100, Loss: 0.00022206510766409338\n"
     ]
    }
   ],
   "source": [
    "# Обучение модели\n",
    "model = ScheduleModel()\n",
    "epochs = 100\n",
    "\n",
    "criterion = nn.CrossEntropyLoss() # Cross-entropy loss для многоклассовой классификации\n",
    "optimizer = optim.Adam(model.parameters(), lr=0.001)\n",
    "\n",
    "# Обучение модели\n",
    "for epoch in range(epochs):\n",
    "    optimizer.zero_grad()\n",
    "    outputs = model(x_train.view(x_train.size(0), -1)) # Преобразование в 2D тензор\n",
    "\n",
    "    loss = criterion(outputs.permute(0, 2, 1, 3).reshape(-1, 3), y_train.view(-1)) # Переформатирование тензоров\n",
    "    loss.backward()\n",
    "    optimizer.step()\n",
    "    print(f'Epoch {epoch+1}/{epochs}, Loss: {loss.item()}')\n",
    "\n",
    "torch.save(model.state_dict(), 'shift_scheduler_model.pth')"
   ]
  },
  {
   "cell_type": "code",
   "execution_count": 6,
   "metadata": {},
   "outputs": [
    {
     "name": "stdout",
     "output_type": "stream",
     "text": [
      "Предсказанное расписание:\n",
      "[2 2 0 2 0 2 2 2 2 0 1 2 1 2 0 1 0 2 2 1]\n"
     ]
    }
   ],
   "source": [
    "# Получение предсказания\n",
    "model.eval()\n",
    "with torch.no_grad():\n",
    "    test_input = torch.zeros((1, NUM_EMPLOYEES * NUM_DAYS))  # Тестовый ввод\n",
    "    schedule = model(test_input).numpy()\n",
    "    schedule = np.argmax(schedule, axis=-1)[0]  # Получаем метки классов\n",
    "\n",
    "print(\"Предсказанное расписание:\")\n",
    "print(schedule[0][:20])"
   ]
  },
  {
   "cell_type": "code",
   "execution_count": 7,
   "metadata": {},
   "outputs": [
    {
     "name": "stdout",
     "output_type": "stream",
     "text": [
      "Минимум два выходных на неделе: False\n",
      "Выходные идут подряд: False\n",
      "Минимум 2 сотрудника на смене: True\n",
      "Нет утренней после вечерней: False\n",
      "Смена утро/вечер каждую неделю: False\n",
      "Не более 5 рабочих дней подряд: False\n"
     ]
    }
   ],
   "source": [
    "# Проверка расписания\n",
    "validator = ScheduleValidator(schedule)\n",
    "validation_results = validator.validate_all_rules()\n",
    "\n",
    "for rule, passed in validation_results.items():\n",
    "    status = True if passed else False\n",
    "    print(f\"{rule}: {status}\")"
   ]
  },
  {
   "cell_type": "code",
   "execution_count": null,
   "metadata": {},
   "outputs": [],
   "source": [
    "# Дозапись в файл с расписанием\n",
    "if all(validation_results.values()): # Если все проверки пройдены успешно\n",
    "    schedule_df.to_csv(OUTPUT_FILE, mode='a', header=False, index=False)"
   ]
  }
 ],
 "metadata": {
  "kernelspec": {
   "display_name": "venv",
   "language": "python",
   "name": "python3"
  },
  "language_info": {
   "codemirror_mode": {
    "name": "ipython",
    "version": 3
   },
   "file_extension": ".py",
   "mimetype": "text/x-python",
   "name": "python",
   "nbconvert_exporter": "python",
   "pygments_lexer": "ipython3",
   "version": "3.10.7"
  }
 },
 "nbformat": 4,
 "nbformat_minor": 2
}
